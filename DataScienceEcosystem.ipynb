{
 "cells": [
  {
   "cell_type": "markdown",
   "id": "f471ecc4-973f-436f-8f5c-8c0bf05e4c32",
   "metadata": {},
   "source": [
    "# Data Science Tools and Ecosystem"
   ]
  },
  {
   "cell_type": "markdown",
   "id": "95c54de2-fbf5-4412-a51f-e48ff4e82984",
   "metadata": {},
   "source": [
    "In this notebook, Data Science Tools and Ecosystem are summarized."
   ]
  },
  {
   "cell_type": "markdown",
   "id": "e4dd1bc2-b387-449d-82ee-1778aa3d9665",
   "metadata": {},
   "source": [
    "Some of the popular languages that Data Scientists use are.\n",
    "1. Python\n",
    "2. R\n",
    "3. SQL\n",
    "4. C++"
   ]
  },
  {
   "cell_type": "markdown",
   "id": "d1fe16c3-183f-406b-bcd0-7791a8745aab",
   "metadata": {},
   "source": [
    "Some of the commonly used libraries used by Data Scientists include:\n",
    "1. TensorFlow\n",
    "2. NumPy\n",
    "3. SciPy\n",
    "4. PyTorch"
   ]
  },
  {
   "cell_type": "markdown",
   "id": "d757d76b-2052-477e-8820-14a54f2fb059",
   "metadata": {},
   "source": [
    "| Data Science Tools |\n",
    "| --- |\n",
    "| SaS |\n",
    "| Apache Hadoop |\n",
    "| TensorFlow |"
   ]
  },
  {
   "cell_type": "markdown",
   "id": "a42f4552-8752-40c3-825e-50a57fc4d2c0",
   "metadata": {},
   "source": [
    "### Below are a few examples of evaluating arithmetic expressions in Python\n"
   ]
  },
  {
   "cell_type": "code",
   "execution_count": 5,
   "id": "d2d0da4e-3ac8-4566-9260-15ccde308d03",
   "metadata": {},
   "outputs": [
    {
     "data": {
      "text/plain": [
       "17"
      ]
     },
     "execution_count": 5,
     "metadata": {},
     "output_type": "execute_result"
    }
   ],
   "source": [
    "#This a simple arithmetic expression to mutiply then add integers\n",
    "(3*4)+5"
   ]
  },
  {
   "cell_type": "code",
   "execution_count": 6,
   "id": "c987815d-43da-4181-92f8-de34ed84de1b",
   "metadata": {},
   "outputs": [
    {
     "data": {
      "text/plain": [
       "3.3333333333333335"
      ]
     },
     "execution_count": 6,
     "metadata": {},
     "output_type": "execute_result"
    }
   ],
   "source": [
    "#This will convert 200 minutes to hours by diving by 60\n",
    "200/60"
   ]
  },
  {
   "cell_type": "markdown",
   "id": "06a3a8df-55df-41e4-a075-6528d1ea9da0",
   "metadata": {},
   "source": [
    "__Objectives:__\n",
    "* List some of the popular languages that Data Scientists use\n",
    "* List some of the commonly used libraries used by Data Scientists\n",
    "* Table some Data Science Tools\n",
    "\n"
   ]
  },
  {
   "cell_type": "markdown",
   "id": "bc1e3654-a5a6-45f0-b0ef-08b96533efb8",
   "metadata": {},
   "source": [
    "## Author\n",
    "Princess Sam-Boaz"
   ]
  },
  {
   "cell_type": "code",
   "execution_count": null,
   "id": "94c11fd5-43f3-4b9b-90fe-83a9703b0684",
   "metadata": {},
   "outputs": [],
   "source": []
  }
 ],
 "metadata": {
  "kernelspec": {
   "display_name": "Python 3 (ipykernel)",
   "language": "python",
   "name": "python3"
  },
  "language_info": {
   "codemirror_mode": {
    "name": "ipython",
    "version": 3
   },
   "file_extension": ".py",
   "mimetype": "text/x-python",
   "name": "python",
   "nbconvert_exporter": "python",
   "pygments_lexer": "ipython3",
   "version": "3.12.4"
  }
 },
 "nbformat": 4,
 "nbformat_minor": 5
}
